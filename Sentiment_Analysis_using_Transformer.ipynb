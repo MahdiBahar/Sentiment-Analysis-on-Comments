{
  "cells": [
    {
      "cell_type": "markdown",
      "metadata": {
        "id": "ACPwY3lNGtV4"
      },
      "source": [
        "## Login and pip"
      ]
    },
    {
      "cell_type": "code",
      "execution_count": 1,
      "metadata": {
        "colab": {
          "base_uri": "https://localhost:8080/"
        },
        "id": "fxSasvl0WUtk",
        "outputId": "f5600d6f-5820-4188-a2c9-de1e4dc085e8"
      },
      "outputs": [
        {
          "name": "stdout",
          "output_type": "stream",
          "text": [
            "Drive already mounted at /content/drive; to attempt to forcibly remount, call drive.mount(\"/content/drive\", force_remount=True).\n"
          ]
        }
      ],
      "source": [
        "from google.colab import drive\n",
        "drive.mount('/content/drive')"
      ]
    },
    {
      "cell_type": "code",
      "execution_count": 2,
      "metadata": {
        "colab": {
          "base_uri": "https://localhost:8080/"
        },
        "id": "TphjEM7_emtS",
        "outputId": "f4ce58ee-fe83-4046-c7b0-ca963d19f05b"
      },
      "outputs": [
        {
          "name": "stdout",
          "output_type": "stream",
          "text": [
            "Requirement already satisfied: transformers in /usr/local/lib/python3.10/dist-packages (4.35.2)\n",
            "Requirement already satisfied: filelock in /usr/local/lib/python3.10/dist-packages (from transformers) (3.13.1)\n",
            "Requirement already satisfied: huggingface-hub<1.0,>=0.16.4 in /usr/local/lib/python3.10/dist-packages (from transformers) (0.20.3)\n",
            "Requirement already satisfied: numpy>=1.17 in /usr/local/lib/python3.10/dist-packages (from transformers) (1.25.2)\n",
            "Requirement already satisfied: packaging>=20.0 in /usr/local/lib/python3.10/dist-packages (from transformers) (23.2)\n",
            "Requirement already satisfied: pyyaml>=5.1 in /usr/local/lib/python3.10/dist-packages (from transformers) (6.0.1)\n",
            "Requirement already satisfied: regex!=2019.12.17 in /usr/local/lib/python3.10/dist-packages (from transformers) (2023.12.25)\n",
            "Requirement already satisfied: requests in /usr/local/lib/python3.10/dist-packages (from transformers) (2.31.0)\n",
            "Requirement already satisfied: tokenizers<0.19,>=0.14 in /usr/local/lib/python3.10/dist-packages (from transformers) (0.15.2)\n",
            "Requirement already satisfied: safetensors>=0.3.1 in /usr/local/lib/python3.10/dist-packages (from transformers) (0.4.2)\n",
            "Requirement already satisfied: tqdm>=4.27 in /usr/local/lib/python3.10/dist-packages (from transformers) (4.66.2)\n",
            "Requirement already satisfied: fsspec>=2023.5.0 in /usr/local/lib/python3.10/dist-packages (from huggingface-hub<1.0,>=0.16.4->transformers) (2023.6.0)\n",
            "Requirement already satisfied: typing-extensions>=3.7.4.3 in /usr/local/lib/python3.10/dist-packages (from huggingface-hub<1.0,>=0.16.4->transformers) (4.9.0)\n",
            "Requirement already satisfied: charset-normalizer<4,>=2 in /usr/local/lib/python3.10/dist-packages (from requests->transformers) (3.3.2)\n",
            "Requirement already satisfied: idna<4,>=2.5 in /usr/local/lib/python3.10/dist-packages (from requests->transformers) (3.6)\n",
            "Requirement already satisfied: urllib3<3,>=1.21.1 in /usr/local/lib/python3.10/dist-packages (from requests->transformers) (2.0.7)\n",
            "Requirement already satisfied: certifi>=2017.4.17 in /usr/local/lib/python3.10/dist-packages (from requests->transformers) (2024.2.2)\n"
          ]
        }
      ],
      "source": [
        "!pip install transformers"
      ]
    },
    {
      "cell_type": "code",
      "execution_count": 3,
      "metadata": {
        "colab": {
          "base_uri": "https://localhost:8080/"
        },
        "id": "16FOpIDuOyfz",
        "outputId": "d82bb94c-9b8b-4e16-eaf3-05b958e030f2"
      },
      "outputs": [
        {
          "name": "stdout",
          "output_type": "stream",
          "text": [
            "Requirement already satisfied: jalali_pandas in /usr/local/lib/python3.10/dist-packages (0.2.2)\n",
            "Requirement already satisfied: jdatetime<4.0.0,>=3.6.4 in /usr/local/lib/python3.10/dist-packages (from jalali_pandas) (3.8.2)\n"
          ]
        }
      ],
      "source": [
        "! pip install jalali_pandas"
      ]
    },
    {
      "cell_type": "markdown",
      "metadata": {
        "id": "EqLkIUj3G58O"
      },
      "source": [
        "## Import Libraries"
      ]
    },
    {
      "cell_type": "code",
      "execution_count": 4,
      "metadata": {
        "id": "P1Ua9_bcdjLY"
      },
      "outputs": [],
      "source": [
        "import pandas as pd\n",
        "import numpy as np"
      ]
    },
    {
      "cell_type": "code",
      "execution_count": 5,
      "metadata": {
        "id": "XiLvYyuWglIS"
      },
      "outputs": [],
      "source": [
        "from datetime import datetime"
      ]
    },
    {
      "cell_type": "code",
      "execution_count": 6,
      "metadata": {
        "id": "wcIp30bPgmPC"
      },
      "outputs": [],
      "source": [
        "import jalali_pandas"
      ]
    },
    {
      "cell_type": "code",
      "execution_count": 7,
      "metadata": {
        "id": "MfvPAo3cgwh4"
      },
      "outputs": [],
      "source": [
        "from transformers import pipeline"
      ]
    },
    {
      "cell_type": "markdown",
      "metadata": {
        "id": "yAT_HOuzHEq0"
      },
      "source": [
        "## Read Comments"
      ]
    },
    {
      "cell_type": "code",
      "execution_count": 8,
      "metadata": {
        "id": "cl_gvgPGIj6v"
      },
      "outputs": [],
      "source": [
        "pd.options.display.max_columns= None\n",
        "pd.options.display.max_colwidth= None\n",
        "pd.options.display.max_rows = None"
      ]
    },
    {
      "cell_type": "code",
      "execution_count": 9,
      "metadata": {
        "colab": {
          "base_uri": "https://localhost:8080/",
          "height": 1000
        },
        "id": "bUoox5FqIu1_",
        "outputId": "fb3f20ff-0bb4-4eb0-910d-69aa99390f6f"
      },
      "outputs": [
        {
          "data": {
            "application/vnd.google.colaboratory.intrinsic+json": {
              "summary": "{\n  \"name\": \"df\",\n  \"rows\": 7320,\n  \"fields\": [\n    {\n      \"column\": \"Unnamed: 0\",\n      \"properties\": {\n        \"dtype\": \"number\",\n        \"std\": 2113,\n        \"min\": 0,\n        \"max\": 7319,\n        \"samples\": [\n          2574,\n          1562,\n          4477\n        ],\n        \"num_unique_values\": 7320,\n        \"semantic_type\": \"\",\n        \"description\": \"\"\n      }\n    },\n    {\n      \"column\": \"username\",\n      \"properties\": {\n        \"dtype\": \"string\",\n        \"samples\": [\n          \"Michael Dinges\",\n          \"Jarod Watson\",\n          \"Jared Kilts\"\n        ],\n        \"num_unique_values\": 4913,\n        \"semantic_type\": \"\",\n        \"description\": \"\"\n      }\n    },\n    {\n      \"column\": \"image\",\n      \"properties\": {\n        \"dtype\": \"string\",\n        \"samples\": [\n          \"https://play-lh.googleusercontent.com/a-/ALV-UjUsZRRi6mzbn0niVglTa30YNCTkp27eqOldf8KoDrIOFwQ=s32-rw\",\n          \"https://play-lh.googleusercontent.com/a/ACg8ocLLxxJDoKg8ESVvtDbe-PlkoKriftFpSReQzykQXNJG=s32-rw-mo\",\n          \"https://play-lh.googleusercontent.com/a/ACg8ocKKojcCV-0SQZYUz5Iu5xKUiT1T5878yh_DieAKuJks=s32-rw-mo\"\n        ],\n        \"num_unique_values\": 4954,\n        \"semantic_type\": \"\",\n        \"description\": \"\"\n      }\n    },\n    {\n      \"column\": \"comment\",\n      \"properties\": {\n        \"dtype\": \"string\",\n        \"samples\": [\n          \"I am trying to reset my password. I have followed every direction. It will still not accept any password I put in. It is the most frustrating app I have ever dealt with\",\n          \"I've been banking with Chase for about 10 years now, and I've been using this app since it was introduced. It's worked great for me up until recently, where it will be stuck loading in and never actually open into the log-in screen, so I can't access anything at all anymore via the app.\",\n          \"easy see swipe option quit working terribly annoying to break something in an update and an update later still no fix. just let everone know your not going to fix and ill quit looking for it update1/2/19 still no reply or update. still broken.\"\n        ],\n        \"num_unique_values\": 7314,\n        \"semantic_type\": \"\",\n        \"description\": \"\"\n      }\n    },\n    {\n      \"column\": \"date\",\n      \"properties\": {\n        \"dtype\": \"object\",\n        \"min\": \"April 1, 2019\",\n        \"max\": \"September 9, 2023\",\n        \"samples\": [\n          \"November 3, 2022\",\n          \"November 7, 2020\",\n          \"May 5, 2021\"\n        ],\n        \"num_unique_values\": 1746,\n        \"semantic_type\": \"\",\n        \"description\": \"\"\n      }\n    },\n    {\n      \"column\": \"rating\",\n      \"properties\": {\n        \"dtype\": \"number\",\n        \"std\": 1,\n        \"min\": 1,\n        \"max\": 5,\n        \"samples\": [\n          3,\n          5,\n          1\n        ],\n        \"num_unique_values\": 5,\n        \"semantic_type\": \"\",\n        \"description\": \"\"\n      }\n    },\n    {\n      \"column\": \"helpful\",\n      \"properties\": {\n        \"dtype\": \"number\",\n        \"std\": 38,\n        \"min\": 0,\n        \"max\": 959,\n        \"samples\": [\n          9,\n          43,\n          61\n        ],\n        \"num_unique_values\": 193,\n        \"semantic_type\": \"\",\n        \"description\": \"\"\n      }\n    }\n  ]\n}",
              "type": "dataframe",
              "variable_name": "df"
            },
            "text/html": [
              "\n",
              "  <div id=\"df-3af46c8c-64a3-4161-8c8a-6ad4c818606f\" class=\"colab-df-container\">\n",
              "    <div>\n",
              "<style scoped>\n",
              "    .dataframe tbody tr th:only-of-type {\n",
              "        vertical-align: middle;\n",
              "    }\n",
              "\n",
              "    .dataframe tbody tr th {\n",
              "        vertical-align: top;\n",
              "    }\n",
              "\n",
              "    .dataframe thead th {\n",
              "        text-align: right;\n",
              "    }\n",
              "</style>\n",
              "<table border=\"1\" class=\"dataframe\">\n",
              "  <thead>\n",
              "    <tr style=\"text-align: right;\">\n",
              "      <th></th>\n",
              "      <th>Unnamed: 0</th>\n",
              "      <th>username</th>\n",
              "      <th>image</th>\n",
              "      <th>comment</th>\n",
              "      <th>date</th>\n",
              "      <th>rating</th>\n",
              "      <th>helpful</th>\n",
              "    </tr>\n",
              "  </thead>\n",
              "  <tbody>\n",
              "    <tr>\n",
              "      <th>0</th>\n",
              "      <td>0</td>\n",
              "      <td>Travis Duryea</td>\n",
              "      <td>https://play-lh.googleusercontent.com/a-/ALV-UjXDTipEk-c_xnFps5eRdoPksUhhuQ-qDfQF-Qo3biZEEw=s32-rw</td>\n",
              "      <td>The app is a bit over cluttered and full ads for other Chase services. But it does get the basic job done I guess. The biggest disappointment in the app though is that it doesn't have a widget to show your recent account transaction history. I shouldn't have to log into the just to see where the money in my account is going, at a glance. I would like to see that information on my Android home screen / desktop. So that I can quickly catch any strange transactions.</td>\n",
              "      <td>December 17, 2023</td>\n",
              "      <td>2</td>\n",
              "      <td>171</td>\n",
              "    </tr>\n",
              "    <tr>\n",
              "      <th>1</th>\n",
              "      <td>1</td>\n",
              "      <td>Andrew Berry</td>\n",
              "      <td>https://play-lh.googleusercontent.com/a/ACg8ocImBqvPj6lofurnYCSYr3p-WxLIQflItUCjILZEfmRi=s32-rw-mo</td>\n",
              "      <td>Been a Chase CC customer since 2013. The app is decent, but I think there should be more stats available, especially about cash back. I could've swore they had a more available breakdown before. My BIGGEST issue is that 99% of the time I go to pay using a custom amount the keyboard won't pop up and then it often freezes. I'm just trying to pay my bill...</td>\n",
              "      <td>December 13, 2023</td>\n",
              "      <td>3</td>\n",
              "      <td>191</td>\n",
              "    </tr>\n",
              "    <tr>\n",
              "      <th>2</th>\n",
              "      <td>2</td>\n",
              "      <td>Nick Hooker</td>\n",
              "      <td>https://play-lh.googleusercontent.com/a-/ALV-UjW9AEvTGAiGOCp3-LnQFC-AegFqPWdu-8rRjNuxupwTJk0=s32-rw</td>\n",
              "      <td>Most of the features on the app are solid, and fairly straightforward to use. Love Chase credit cards too, but I can't give more than two stars for one huge reason: you CANNOT edit/cancel recurring transfers. On the app OR the website. How asinine is that?? Whoever is in charge of app/web development is failing miserably, this is such a basic and necessary feature... Get it together Chase!</td>\n",
              "      <td>December 2, 2023</td>\n",
              "      <td>2</td>\n",
              "      <td>212</td>\n",
              "    </tr>\n",
              "    <tr>\n",
              "      <th>3</th>\n",
              "      <td>3</td>\n",
              "      <td>Peggy Fischer</td>\n",
              "      <td>https://play-lh.googleusercontent.com/a-/ALV-UjW11i0-EEkJgOBcjKGHRWjhPkV6Uratj-GeAAaDglTHr3c=s32-rw</td>\n",
              "      <td>I would like to give no star as a business client. App has bugs when sending secure messages. Can't upload PDFs only photos I need to take while using the app. Otherwise the app would crash. The Chase business website is also not properly working. You can at least upload a PDF document but when I want to write a text message, it doesn't let me. And without a text message your can't send it.</td>\n",
              "      <td>December 11, 2023</td>\n",
              "      <td>1</td>\n",
              "      <td>42</td>\n",
              "    </tr>\n",
              "    <tr>\n",
              "      <th>4</th>\n",
              "      <td>4</td>\n",
              "      <td>r dupras</td>\n",
              "      <td>https://play-lh.googleusercontent.com/a/ACg8ocKUEQZiuEn-IimJGZcujjpqLYr0zlB8Cyc7pz7eFo1t=s32-rw-mo</td>\n",
              "      <td>The credit card information is so variable. I've had a charge show up in pending one day, disappear the next, past the third. It's frustrating trying to figure out the balance in order to pay it in full. I've relied on the amount to have a lost charge show up and end up with a balance. Is simple math. You should be able to see everything and calculate additions and subtractions. Not rocket science.</td>\n",
              "      <td>December 7, 2023</td>\n",
              "      <td>3</td>\n",
              "      <td>253</td>\n",
              "    </tr>\n",
              "  </tbody>\n",
              "</table>\n",
              "</div>\n",
              "    <div class=\"colab-df-buttons\">\n",
              "\n",
              "  <div class=\"colab-df-container\">\n",
              "    <button class=\"colab-df-convert\" onclick=\"convertToInteractive('df-3af46c8c-64a3-4161-8c8a-6ad4c818606f')\"\n",
              "            title=\"Convert this dataframe to an interactive table.\"\n",
              "            style=\"display:none;\">\n",
              "\n",
              "  <svg xmlns=\"http://www.w3.org/2000/svg\" height=\"24px\" viewBox=\"0 -960 960 960\">\n",
              "    <path d=\"M120-120v-720h720v720H120Zm60-500h600v-160H180v160Zm220 220h160v-160H400v160Zm0 220h160v-160H400v160ZM180-400h160v-160H180v160Zm440 0h160v-160H620v160ZM180-180h160v-160H180v160Zm440 0h160v-160H620v160Z\"/>\n",
              "  </svg>\n",
              "    </button>\n",
              "\n",
              "  <style>\n",
              "    .colab-df-container {\n",
              "      display:flex;\n",
              "      gap: 12px;\n",
              "    }\n",
              "\n",
              "    .colab-df-convert {\n",
              "      background-color: #E8F0FE;\n",
              "      border: none;\n",
              "      border-radius: 50%;\n",
              "      cursor: pointer;\n",
              "      display: none;\n",
              "      fill: #1967D2;\n",
              "      height: 32px;\n",
              "      padding: 0 0 0 0;\n",
              "      width: 32px;\n",
              "    }\n",
              "\n",
              "    .colab-df-convert:hover {\n",
              "      background-color: #E2EBFA;\n",
              "      box-shadow: 0px 1px 2px rgba(60, 64, 67, 0.3), 0px 1px 3px 1px rgba(60, 64, 67, 0.15);\n",
              "      fill: #174EA6;\n",
              "    }\n",
              "\n",
              "    .colab-df-buttons div {\n",
              "      margin-bottom: 4px;\n",
              "    }\n",
              "\n",
              "    [theme=dark] .colab-df-convert {\n",
              "      background-color: #3B4455;\n",
              "      fill: #D2E3FC;\n",
              "    }\n",
              "\n",
              "    [theme=dark] .colab-df-convert:hover {\n",
              "      background-color: #434B5C;\n",
              "      box-shadow: 0px 1px 3px 1px rgba(0, 0, 0, 0.15);\n",
              "      filter: drop-shadow(0px 1px 2px rgba(0, 0, 0, 0.3));\n",
              "      fill: #FFFFFF;\n",
              "    }\n",
              "  </style>\n",
              "\n",
              "    <script>\n",
              "      const buttonEl =\n",
              "        document.querySelector('#df-3af46c8c-64a3-4161-8c8a-6ad4c818606f button.colab-df-convert');\n",
              "      buttonEl.style.display =\n",
              "        google.colab.kernel.accessAllowed ? 'block' : 'none';\n",
              "\n",
              "      async function convertToInteractive(key) {\n",
              "        const element = document.querySelector('#df-3af46c8c-64a3-4161-8c8a-6ad4c818606f');\n",
              "        const dataTable =\n",
              "          await google.colab.kernel.invokeFunction('convertToInteractive',\n",
              "                                                    [key], {});\n",
              "        if (!dataTable) return;\n",
              "\n",
              "        const docLinkHtml = 'Like what you see? Visit the ' +\n",
              "          '<a target=\"_blank\" href=https://colab.research.google.com/notebooks/data_table.ipynb>data table notebook</a>'\n",
              "          + ' to learn more about interactive tables.';\n",
              "        element.innerHTML = '';\n",
              "        dataTable['output_type'] = 'display_data';\n",
              "        await google.colab.output.renderOutput(dataTable, element);\n",
              "        const docLink = document.createElement('div');\n",
              "        docLink.innerHTML = docLinkHtml;\n",
              "        element.appendChild(docLink);\n",
              "      }\n",
              "    </script>\n",
              "  </div>\n",
              "\n",
              "\n",
              "<div id=\"df-b1b34ff2-1a5e-418a-be62-26c23c796055\">\n",
              "  <button class=\"colab-df-quickchart\" onclick=\"quickchart('df-b1b34ff2-1a5e-418a-be62-26c23c796055')\"\n",
              "            title=\"Suggest charts\"\n",
              "            style=\"display:none;\">\n",
              "\n",
              "<svg xmlns=\"http://www.w3.org/2000/svg\" height=\"24px\"viewBox=\"0 0 24 24\"\n",
              "     width=\"24px\">\n",
              "    <g>\n",
              "        <path d=\"M19 3H5c-1.1 0-2 .9-2 2v14c0 1.1.9 2 2 2h14c1.1 0 2-.9 2-2V5c0-1.1-.9-2-2-2zM9 17H7v-7h2v7zm4 0h-2V7h2v10zm4 0h-2v-4h2v4z\"/>\n",
              "    </g>\n",
              "</svg>\n",
              "  </button>\n",
              "\n",
              "<style>\n",
              "  .colab-df-quickchart {\n",
              "      --bg-color: #E8F0FE;\n",
              "      --fill-color: #1967D2;\n",
              "      --hover-bg-color: #E2EBFA;\n",
              "      --hover-fill-color: #174EA6;\n",
              "      --disabled-fill-color: #AAA;\n",
              "      --disabled-bg-color: #DDD;\n",
              "  }\n",
              "\n",
              "  [theme=dark] .colab-df-quickchart {\n",
              "      --bg-color: #3B4455;\n",
              "      --fill-color: #D2E3FC;\n",
              "      --hover-bg-color: #434B5C;\n",
              "      --hover-fill-color: #FFFFFF;\n",
              "      --disabled-bg-color: #3B4455;\n",
              "      --disabled-fill-color: #666;\n",
              "  }\n",
              "\n",
              "  .colab-df-quickchart {\n",
              "    background-color: var(--bg-color);\n",
              "    border: none;\n",
              "    border-radius: 50%;\n",
              "    cursor: pointer;\n",
              "    display: none;\n",
              "    fill: var(--fill-color);\n",
              "    height: 32px;\n",
              "    padding: 0;\n",
              "    width: 32px;\n",
              "  }\n",
              "\n",
              "  .colab-df-quickchart:hover {\n",
              "    background-color: var(--hover-bg-color);\n",
              "    box-shadow: 0 1px 2px rgba(60, 64, 67, 0.3), 0 1px 3px 1px rgba(60, 64, 67, 0.15);\n",
              "    fill: var(--button-hover-fill-color);\n",
              "  }\n",
              "\n",
              "  .colab-df-quickchart-complete:disabled,\n",
              "  .colab-df-quickchart-complete:disabled:hover {\n",
              "    background-color: var(--disabled-bg-color);\n",
              "    fill: var(--disabled-fill-color);\n",
              "    box-shadow: none;\n",
              "  }\n",
              "\n",
              "  .colab-df-spinner {\n",
              "    border: 2px solid var(--fill-color);\n",
              "    border-color: transparent;\n",
              "    border-bottom-color: var(--fill-color);\n",
              "    animation:\n",
              "      spin 1s steps(1) infinite;\n",
              "  }\n",
              "\n",
              "  @keyframes spin {\n",
              "    0% {\n",
              "      border-color: transparent;\n",
              "      border-bottom-color: var(--fill-color);\n",
              "      border-left-color: var(--fill-color);\n",
              "    }\n",
              "    20% {\n",
              "      border-color: transparent;\n",
              "      border-left-color: var(--fill-color);\n",
              "      border-top-color: var(--fill-color);\n",
              "    }\n",
              "    30% {\n",
              "      border-color: transparent;\n",
              "      border-left-color: var(--fill-color);\n",
              "      border-top-color: var(--fill-color);\n",
              "      border-right-color: var(--fill-color);\n",
              "    }\n",
              "    40% {\n",
              "      border-color: transparent;\n",
              "      border-right-color: var(--fill-color);\n",
              "      border-top-color: var(--fill-color);\n",
              "    }\n",
              "    60% {\n",
              "      border-color: transparent;\n",
              "      border-right-color: var(--fill-color);\n",
              "    }\n",
              "    80% {\n",
              "      border-color: transparent;\n",
              "      border-right-color: var(--fill-color);\n",
              "      border-bottom-color: var(--fill-color);\n",
              "    }\n",
              "    90% {\n",
              "      border-color: transparent;\n",
              "      border-bottom-color: var(--fill-color);\n",
              "    }\n",
              "  }\n",
              "</style>\n",
              "\n",
              "  <script>\n",
              "    async function quickchart(key) {\n",
              "      const quickchartButtonEl =\n",
              "        document.querySelector('#' + key + ' button');\n",
              "      quickchartButtonEl.disabled = true;  // To prevent multiple clicks.\n",
              "      quickchartButtonEl.classList.add('colab-df-spinner');\n",
              "      try {\n",
              "        const charts = await google.colab.kernel.invokeFunction(\n",
              "            'suggestCharts', [key], {});\n",
              "      } catch (error) {\n",
              "        console.error('Error during call to suggestCharts:', error);\n",
              "      }\n",
              "      quickchartButtonEl.classList.remove('colab-df-spinner');\n",
              "      quickchartButtonEl.classList.add('colab-df-quickchart-complete');\n",
              "    }\n",
              "    (() => {\n",
              "      let quickchartButtonEl =\n",
              "        document.querySelector('#df-b1b34ff2-1a5e-418a-be62-26c23c796055 button');\n",
              "      quickchartButtonEl.style.display =\n",
              "        google.colab.kernel.accessAllowed ? 'block' : 'none';\n",
              "    })();\n",
              "  </script>\n",
              "</div>\n",
              "    </div>\n",
              "  </div>\n"
            ],
            "text/plain": [
              "   Unnamed: 0       username  \\\n",
              "0           0  Travis Duryea   \n",
              "1           1   Andrew Berry   \n",
              "2           2    Nick Hooker   \n",
              "3           3  Peggy Fischer   \n",
              "4           4       r dupras   \n",
              "\n",
              "                                                                                                 image  \\\n",
              "0   https://play-lh.googleusercontent.com/a-/ALV-UjXDTipEk-c_xnFps5eRdoPksUhhuQ-qDfQF-Qo3biZEEw=s32-rw   \n",
              "1   https://play-lh.googleusercontent.com/a/ACg8ocImBqvPj6lofurnYCSYr3p-WxLIQflItUCjILZEfmRi=s32-rw-mo   \n",
              "2  https://play-lh.googleusercontent.com/a-/ALV-UjW9AEvTGAiGOCp3-LnQFC-AegFqPWdu-8rRjNuxupwTJk0=s32-rw   \n",
              "3  https://play-lh.googleusercontent.com/a-/ALV-UjW11i0-EEkJgOBcjKGHRWjhPkV6Uratj-GeAAaDglTHr3c=s32-rw   \n",
              "4   https://play-lh.googleusercontent.com/a/ACg8ocKUEQZiuEn-IimJGZcujjpqLYr0zlB8Cyc7pz7eFo1t=s32-rw-mo   \n",
              "\n",
              "                                                                                                                                                                                                                                                                                                                                                                                                                                                                               comment  \\\n",
              "0  The app is a bit over cluttered and full ads for other Chase services. But it does get the basic job done I guess. The biggest disappointment in the app though is that it doesn't have a widget to show your recent account transaction history. I shouldn't have to log into the just to see where the money in my account is going, at a glance. I would like to see that information on my Android home screen / desktop. So that I can quickly catch any strange transactions.   \n",
              "1                                                                                                                 Been a Chase CC customer since 2013. The app is decent, but I think there should be more stats available, especially about cash back. I could've swore they had a more available breakdown before. My BIGGEST issue is that 99% of the time I go to pay using a custom amount the keyboard won't pop up and then it often freezes. I'm just trying to pay my bill...   \n",
              "2                                                                             Most of the features on the app are solid, and fairly straightforward to use. Love Chase credit cards too, but I can't give more than two stars for one huge reason: you CANNOT edit/cancel recurring transfers. On the app OR the website. How asinine is that?? Whoever is in charge of app/web development is failing miserably, this is such a basic and necessary feature... Get it together Chase!   \n",
              "3                                                                            I would like to give no star as a business client. App has bugs when sending secure messages. Can't upload PDFs only photos I need to take while using the app. Otherwise the app would crash. The Chase business website is also not properly working. You can at least upload a PDF document but when I want to write a text message, it doesn't let me. And without a text message your can't send it.   \n",
              "4                                                                    The credit card information is so variable. I've had a charge show up in pending one day, disappear the next, past the third. It's frustrating trying to figure out the balance in order to pay it in full. I've relied on the amount to have a lost charge show up and end up with a balance. Is simple math. You should be able to see everything and calculate additions and subtractions. Not rocket science.   \n",
              "\n",
              "                date  rating  helpful  \n",
              "0  December 17, 2023       2      171  \n",
              "1  December 13, 2023       3      191  \n",
              "2   December 2, 2023       2      212  \n",
              "3  December 11, 2023       1       42  \n",
              "4   December 7, 2023       3      253  "
            ]
          },
          "execution_count": 9,
          "metadata": {},
          "output_type": "execute_result"
        }
      ],
      "source": [
        "df = pd.read_excel('/content/drive/MyDrive/Colab Notebooks/Chase-Mobile.xlsx')\n",
        "app = 'chase'\n",
        "df.head(5)"
      ]
    },
    {
      "cell_type": "markdown",
      "metadata": {
        "id": "p5oB-ADIHKbf"
      },
      "source": [
        "# Preprocessing"
      ]
    },
    {
      "cell_type": "code",
      "execution_count": 10,
      "metadata": {
        "colab": {
          "base_uri": "https://localhost:8080/"
        },
        "id": "hpvgWtBquag_",
        "outputId": "25ed1f7e-42e7-4aaf-8758-6e4b04675120"
      },
      "outputs": [
        {
          "data": {
            "text/plain": [
              "Index(['Unnamed: 0', 'username', 'image', 'comment', 'date', 'rating',\n",
              "       'helpful'],\n",
              "      dtype='object')"
            ]
          },
          "execution_count": 10,
          "metadata": {},
          "output_type": "execute_result"
        }
      ],
      "source": [
        "df.columns"
      ]
    },
    {
      "cell_type": "code",
      "execution_count": 11,
      "metadata": {
        "id": "Rqm6CipfuOVF"
      },
      "outputs": [],
      "source": [
        "columns = df.columns\n",
        "desired_columns = ['comment', 'rating', 'date','helpful']\n",
        "\n",
        "for x in columns:\n",
        "  if x not in desired_columns:\n",
        "    df.drop(x,axis=1, inplace= True)"
      ]
    },
    {
      "cell_type": "code",
      "execution_count": 12,
      "metadata": {
        "colab": {
          "base_uri": "https://localhost:8080/"
        },
        "id": "N-xUypBzGoJa",
        "outputId": "aff0f4eb-d3b8-4396-8fdc-963791245c67"
      },
      "outputs": [
        {
          "data": {
            "text/plain": [
              "Index(['comment', 'date', 'rating', 'helpful'], dtype='object')"
            ]
          },
          "execution_count": 12,
          "metadata": {},
          "output_type": "execute_result"
        }
      ],
      "source": [
        "df.columns"
      ]
    },
    {
      "cell_type": "code",
      "execution_count": 13,
      "metadata": {
        "colab": {
          "base_uri": "https://localhost:8080/"
        },
        "id": "Nagh5cgFJcbh",
        "outputId": "7184d1ea-66e3-4367-fc16-7bdf49c4f35a"
      },
      "outputs": [
        {
          "name": "stdout",
          "output_type": "stream",
          "text": [
            "<class 'pandas.core.frame.DataFrame'>\n",
            "RangeIndex: 7320 entries, 0 to 7319\n",
            "Data columns (total 4 columns):\n",
            " #   Column   Non-Null Count  Dtype \n",
            "---  ------   --------------  ----- \n",
            " 0   comment  7320 non-null   object\n",
            " 1   date     7320 non-null   object\n",
            " 2   rating   7320 non-null   int64 \n",
            " 3   helpful  7320 non-null   int64 \n",
            "dtypes: int64(2), object(2)\n",
            "memory usage: 228.9+ KB\n"
          ]
        }
      ],
      "source": [
        "df.info()"
      ]
    },
    {
      "cell_type": "markdown",
      "metadata": {
        "id": "KMz_X04BHUud"
      },
      "source": [
        "# Convert Georgian to Jalali"
      ]
    },
    {
      "cell_type": "code",
      "execution_count": 14,
      "metadata": {
        "id": "JTa8b5XNJuBz"
      },
      "outputs": [],
      "source": [
        "df['date'] = df['date'].apply(lambda x: datetime.strptime(x,'%B %d, %Y'))"
      ]
    },
    {
      "cell_type": "code",
      "execution_count": 15,
      "metadata": {
        "id": "h0MC7_5cJ8Kv"
      },
      "outputs": [],
      "source": [
        "df[\"date\"] = df[\"date\"].jalali.to_jalali()\n",
        "## Convert Georgian to Jalali\n",
        "df[\"year\"] = df[\"date\"].jalali.year\n",
        "df[\"month\"] = df[\"date\"].jalali.month\n",
        "df[\"day\"] = df[\"date\"].jalali.day"
      ]
    },
    {
      "cell_type": "code",
      "execution_count": 16,
      "metadata": {
        "colab": {
          "base_uri": "https://localhost:8080/",
          "height": 484
        },
        "id": "qt1xL6eiyhcs",
        "outputId": "65eb3d18-1629-4bcc-bac0-7aa552a0702a"
      },
      "outputs": [
        {
          "data": {
            "application/vnd.google.colaboratory.intrinsic+json": {
              "summary": "{\n  \"name\": \"df\",\n  \"rows\": 7320,\n  \"fields\": [\n    {\n      \"column\": \"comment\",\n      \"properties\": {\n        \"dtype\": \"string\",\n        \"samples\": [\n          \"I am trying to reset my password. I have followed every direction. It will still not accept any password I put in. It is the most frustrating app I have ever dealt with\",\n          \"I've been banking with Chase for about 10 years now, and I've been using this app since it was introduced. It's worked great for me up until recently, where it will be stuck loading in and never actually open into the log-in screen, so I can't access anything at all anymore via the app.\",\n          \"easy see swipe option quit working terribly annoying to break something in an update and an update later still no fix. just let everone know your not going to fix and ill quit looking for it update1/2/19 still no reply or update. still broken.\"\n        ],\n        \"num_unique_values\": 7314,\n        \"semantic_type\": \"\",\n        \"description\": \"\"\n      }\n    },\n    {\n      \"column\": \"date\",\n      \"properties\": {\n        \"dtype\": \"category\",\n        \"samples\": [\n          \"1401-08-12 00:00:00\",\n          \"1399-08-17 00:00:00\",\n          \"1400-02-15 00:00:00\"\n        ],\n        \"num_unique_values\": 1746,\n        \"semantic_type\": \"\",\n        \"description\": \"\"\n      }\n    },\n    {\n      \"column\": \"rating\",\n      \"properties\": {\n        \"dtype\": \"number\",\n        \"std\": 1,\n        \"min\": 1,\n        \"max\": 5,\n        \"samples\": [\n          3,\n          5,\n          1\n        ],\n        \"num_unique_values\": 5,\n        \"semantic_type\": \"\",\n        \"description\": \"\"\n      }\n    },\n    {\n      \"column\": \"helpful\",\n      \"properties\": {\n        \"dtype\": \"number\",\n        \"std\": 38,\n        \"min\": 0,\n        \"max\": 959,\n        \"samples\": [\n          9,\n          43,\n          61\n        ],\n        \"num_unique_values\": 193,\n        \"semantic_type\": \"\",\n        \"description\": \"\"\n      }\n    },\n    {\n      \"column\": \"year\",\n      \"properties\": {\n        \"dtype\": \"number\",\n        \"std\": 1,\n        \"min\": 1397,\n        \"max\": 1402,\n        \"samples\": [\n          1402,\n          1398,\n          1400\n        ],\n        \"num_unique_values\": 6,\n        \"semantic_type\": \"\",\n        \"description\": \"\"\n      }\n    },\n    {\n      \"column\": \"month\",\n      \"properties\": {\n        \"dtype\": \"number\",\n        \"std\": 3,\n        \"min\": 1,\n        \"max\": 12,\n        \"samples\": [\n          11,\n          1,\n          9\n        ],\n        \"num_unique_values\": 12,\n        \"semantic_type\": \"\",\n        \"description\": \"\"\n      }\n    },\n    {\n      \"column\": \"day\",\n      \"properties\": {\n        \"dtype\": \"number\",\n        \"std\": 8,\n        \"min\": 1,\n        \"max\": 31,\n        \"samples\": [\n          14,\n          23,\n          30\n        ],\n        \"num_unique_values\": 31,\n        \"semantic_type\": \"\",\n        \"description\": \"\"\n      }\n    }\n  ]\n}",
              "type": "dataframe",
              "variable_name": "df"
            },
            "text/html": [
              "\n",
              "  <div id=\"df-671c2930-8248-4b8c-be38-78787e301c80\" class=\"colab-df-container\">\n",
              "    <div>\n",
              "<style scoped>\n",
              "    .dataframe tbody tr th:only-of-type {\n",
              "        vertical-align: middle;\n",
              "    }\n",
              "\n",
              "    .dataframe tbody tr th {\n",
              "        vertical-align: top;\n",
              "    }\n",
              "\n",
              "    .dataframe thead th {\n",
              "        text-align: right;\n",
              "    }\n",
              "</style>\n",
              "<table border=\"1\" class=\"dataframe\">\n",
              "  <thead>\n",
              "    <tr style=\"text-align: right;\">\n",
              "      <th></th>\n",
              "      <th>comment</th>\n",
              "      <th>date</th>\n",
              "      <th>rating</th>\n",
              "      <th>helpful</th>\n",
              "      <th>year</th>\n",
              "      <th>month</th>\n",
              "      <th>day</th>\n",
              "    </tr>\n",
              "  </thead>\n",
              "  <tbody>\n",
              "    <tr>\n",
              "      <th>0</th>\n",
              "      <td>The app is a bit over cluttered and full ads for other Chase services. But it does get the basic job done I guess. The biggest disappointment in the app though is that it doesn't have a widget to show your recent account transaction history. I shouldn't have to log into the just to see where the money in my account is going, at a glance. I would like to see that information on my Android home screen / desktop. So that I can quickly catch any strange transactions.</td>\n",
              "      <td>1402-09-26 00:00:00</td>\n",
              "      <td>2</td>\n",
              "      <td>171</td>\n",
              "      <td>1402</td>\n",
              "      <td>9</td>\n",
              "      <td>26</td>\n",
              "    </tr>\n",
              "    <tr>\n",
              "      <th>1</th>\n",
              "      <td>Been a Chase CC customer since 2013. The app is decent, but I think there should be more stats available, especially about cash back. I could've swore they had a more available breakdown before. My BIGGEST issue is that 99% of the time I go to pay using a custom amount the keyboard won't pop up and then it often freezes. I'm just trying to pay my bill...</td>\n",
              "      <td>1402-09-22 00:00:00</td>\n",
              "      <td>3</td>\n",
              "      <td>191</td>\n",
              "      <td>1402</td>\n",
              "      <td>9</td>\n",
              "      <td>22</td>\n",
              "    </tr>\n",
              "    <tr>\n",
              "      <th>2</th>\n",
              "      <td>Most of the features on the app are solid, and fairly straightforward to use. Love Chase credit cards too, but I can't give more than two stars for one huge reason: you CANNOT edit/cancel recurring transfers. On the app OR the website. How asinine is that?? Whoever is in charge of app/web development is failing miserably, this is such a basic and necessary feature... Get it together Chase!</td>\n",
              "      <td>1402-09-11 00:00:00</td>\n",
              "      <td>2</td>\n",
              "      <td>212</td>\n",
              "      <td>1402</td>\n",
              "      <td>9</td>\n",
              "      <td>11</td>\n",
              "    </tr>\n",
              "    <tr>\n",
              "      <th>3</th>\n",
              "      <td>I would like to give no star as a business client. App has bugs when sending secure messages. Can't upload PDFs only photos I need to take while using the app. Otherwise the app would crash. The Chase business website is also not properly working. You can at least upload a PDF document but when I want to write a text message, it doesn't let me. And without a text message your can't send it.</td>\n",
              "      <td>1402-09-20 00:00:00</td>\n",
              "      <td>1</td>\n",
              "      <td>42</td>\n",
              "      <td>1402</td>\n",
              "      <td>9</td>\n",
              "      <td>20</td>\n",
              "    </tr>\n",
              "    <tr>\n",
              "      <th>4</th>\n",
              "      <td>The credit card information is so variable. I've had a charge show up in pending one day, disappear the next, past the third. It's frustrating trying to figure out the balance in order to pay it in full. I've relied on the amount to have a lost charge show up and end up with a balance. Is simple math. You should be able to see everything and calculate additions and subtractions. Not rocket science.</td>\n",
              "      <td>1402-09-16 00:00:00</td>\n",
              "      <td>3</td>\n",
              "      <td>253</td>\n",
              "      <td>1402</td>\n",
              "      <td>9</td>\n",
              "      <td>16</td>\n",
              "    </tr>\n",
              "  </tbody>\n",
              "</table>\n",
              "</div>\n",
              "    <div class=\"colab-df-buttons\">\n",
              "\n",
              "  <div class=\"colab-df-container\">\n",
              "    <button class=\"colab-df-convert\" onclick=\"convertToInteractive('df-671c2930-8248-4b8c-be38-78787e301c80')\"\n",
              "            title=\"Convert this dataframe to an interactive table.\"\n",
              "            style=\"display:none;\">\n",
              "\n",
              "  <svg xmlns=\"http://www.w3.org/2000/svg\" height=\"24px\" viewBox=\"0 -960 960 960\">\n",
              "    <path d=\"M120-120v-720h720v720H120Zm60-500h600v-160H180v160Zm220 220h160v-160H400v160Zm0 220h160v-160H400v160ZM180-400h160v-160H180v160Zm440 0h160v-160H620v160ZM180-180h160v-160H180v160Zm440 0h160v-160H620v160Z\"/>\n",
              "  </svg>\n",
              "    </button>\n",
              "\n",
              "  <style>\n",
              "    .colab-df-container {\n",
              "      display:flex;\n",
              "      gap: 12px;\n",
              "    }\n",
              "\n",
              "    .colab-df-convert {\n",
              "      background-color: #E8F0FE;\n",
              "      border: none;\n",
              "      border-radius: 50%;\n",
              "      cursor: pointer;\n",
              "      display: none;\n",
              "      fill: #1967D2;\n",
              "      height: 32px;\n",
              "      padding: 0 0 0 0;\n",
              "      width: 32px;\n",
              "    }\n",
              "\n",
              "    .colab-df-convert:hover {\n",
              "      background-color: #E2EBFA;\n",
              "      box-shadow: 0px 1px 2px rgba(60, 64, 67, 0.3), 0px 1px 3px 1px rgba(60, 64, 67, 0.15);\n",
              "      fill: #174EA6;\n",
              "    }\n",
              "\n",
              "    .colab-df-buttons div {\n",
              "      margin-bottom: 4px;\n",
              "    }\n",
              "\n",
              "    [theme=dark] .colab-df-convert {\n",
              "      background-color: #3B4455;\n",
              "      fill: #D2E3FC;\n",
              "    }\n",
              "\n",
              "    [theme=dark] .colab-df-convert:hover {\n",
              "      background-color: #434B5C;\n",
              "      box-shadow: 0px 1px 3px 1px rgba(0, 0, 0, 0.15);\n",
              "      filter: drop-shadow(0px 1px 2px rgba(0, 0, 0, 0.3));\n",
              "      fill: #FFFFFF;\n",
              "    }\n",
              "  </style>\n",
              "\n",
              "    <script>\n",
              "      const buttonEl =\n",
              "        document.querySelector('#df-671c2930-8248-4b8c-be38-78787e301c80 button.colab-df-convert');\n",
              "      buttonEl.style.display =\n",
              "        google.colab.kernel.accessAllowed ? 'block' : 'none';\n",
              "\n",
              "      async function convertToInteractive(key) {\n",
              "        const element = document.querySelector('#df-671c2930-8248-4b8c-be38-78787e301c80');\n",
              "        const dataTable =\n",
              "          await google.colab.kernel.invokeFunction('convertToInteractive',\n",
              "                                                    [key], {});\n",
              "        if (!dataTable) return;\n",
              "\n",
              "        const docLinkHtml = 'Like what you see? Visit the ' +\n",
              "          '<a target=\"_blank\" href=https://colab.research.google.com/notebooks/data_table.ipynb>data table notebook</a>'\n",
              "          + ' to learn more about interactive tables.';\n",
              "        element.innerHTML = '';\n",
              "        dataTable['output_type'] = 'display_data';\n",
              "        await google.colab.output.renderOutput(dataTable, element);\n",
              "        const docLink = document.createElement('div');\n",
              "        docLink.innerHTML = docLinkHtml;\n",
              "        element.appendChild(docLink);\n",
              "      }\n",
              "    </script>\n",
              "  </div>\n",
              "\n",
              "\n",
              "<div id=\"df-a3588daa-5d36-479b-a14f-de602558882f\">\n",
              "  <button class=\"colab-df-quickchart\" onclick=\"quickchart('df-a3588daa-5d36-479b-a14f-de602558882f')\"\n",
              "            title=\"Suggest charts\"\n",
              "            style=\"display:none;\">\n",
              "\n",
              "<svg xmlns=\"http://www.w3.org/2000/svg\" height=\"24px\"viewBox=\"0 0 24 24\"\n",
              "     width=\"24px\">\n",
              "    <g>\n",
              "        <path d=\"M19 3H5c-1.1 0-2 .9-2 2v14c0 1.1.9 2 2 2h14c1.1 0 2-.9 2-2V5c0-1.1-.9-2-2-2zM9 17H7v-7h2v7zm4 0h-2V7h2v10zm4 0h-2v-4h2v4z\"/>\n",
              "    </g>\n",
              "</svg>\n",
              "  </button>\n",
              "\n",
              "<style>\n",
              "  .colab-df-quickchart {\n",
              "      --bg-color: #E8F0FE;\n",
              "      --fill-color: #1967D2;\n",
              "      --hover-bg-color: #E2EBFA;\n",
              "      --hover-fill-color: #174EA6;\n",
              "      --disabled-fill-color: #AAA;\n",
              "      --disabled-bg-color: #DDD;\n",
              "  }\n",
              "\n",
              "  [theme=dark] .colab-df-quickchart {\n",
              "      --bg-color: #3B4455;\n",
              "      --fill-color: #D2E3FC;\n",
              "      --hover-bg-color: #434B5C;\n",
              "      --hover-fill-color: #FFFFFF;\n",
              "      --disabled-bg-color: #3B4455;\n",
              "      --disabled-fill-color: #666;\n",
              "  }\n",
              "\n",
              "  .colab-df-quickchart {\n",
              "    background-color: var(--bg-color);\n",
              "    border: none;\n",
              "    border-radius: 50%;\n",
              "    cursor: pointer;\n",
              "    display: none;\n",
              "    fill: var(--fill-color);\n",
              "    height: 32px;\n",
              "    padding: 0;\n",
              "    width: 32px;\n",
              "  }\n",
              "\n",
              "  .colab-df-quickchart:hover {\n",
              "    background-color: var(--hover-bg-color);\n",
              "    box-shadow: 0 1px 2px rgba(60, 64, 67, 0.3), 0 1px 3px 1px rgba(60, 64, 67, 0.15);\n",
              "    fill: var(--button-hover-fill-color);\n",
              "  }\n",
              "\n",
              "  .colab-df-quickchart-complete:disabled,\n",
              "  .colab-df-quickchart-complete:disabled:hover {\n",
              "    background-color: var(--disabled-bg-color);\n",
              "    fill: var(--disabled-fill-color);\n",
              "    box-shadow: none;\n",
              "  }\n",
              "\n",
              "  .colab-df-spinner {\n",
              "    border: 2px solid var(--fill-color);\n",
              "    border-color: transparent;\n",
              "    border-bottom-color: var(--fill-color);\n",
              "    animation:\n",
              "      spin 1s steps(1) infinite;\n",
              "  }\n",
              "\n",
              "  @keyframes spin {\n",
              "    0% {\n",
              "      border-color: transparent;\n",
              "      border-bottom-color: var(--fill-color);\n",
              "      border-left-color: var(--fill-color);\n",
              "    }\n",
              "    20% {\n",
              "      border-color: transparent;\n",
              "      border-left-color: var(--fill-color);\n",
              "      border-top-color: var(--fill-color);\n",
              "    }\n",
              "    30% {\n",
              "      border-color: transparent;\n",
              "      border-left-color: var(--fill-color);\n",
              "      border-top-color: var(--fill-color);\n",
              "      border-right-color: var(--fill-color);\n",
              "    }\n",
              "    40% {\n",
              "      border-color: transparent;\n",
              "      border-right-color: var(--fill-color);\n",
              "      border-top-color: var(--fill-color);\n",
              "    }\n",
              "    60% {\n",
              "      border-color: transparent;\n",
              "      border-right-color: var(--fill-color);\n",
              "    }\n",
              "    80% {\n",
              "      border-color: transparent;\n",
              "      border-right-color: var(--fill-color);\n",
              "      border-bottom-color: var(--fill-color);\n",
              "    }\n",
              "    90% {\n",
              "      border-color: transparent;\n",
              "      border-bottom-color: var(--fill-color);\n",
              "    }\n",
              "  }\n",
              "</style>\n",
              "\n",
              "  <script>\n",
              "    async function quickchart(key) {\n",
              "      const quickchartButtonEl =\n",
              "        document.querySelector('#' + key + ' button');\n",
              "      quickchartButtonEl.disabled = true;  // To prevent multiple clicks.\n",
              "      quickchartButtonEl.classList.add('colab-df-spinner');\n",
              "      try {\n",
              "        const charts = await google.colab.kernel.invokeFunction(\n",
              "            'suggestCharts', [key], {});\n",
              "      } catch (error) {\n",
              "        console.error('Error during call to suggestCharts:', error);\n",
              "      }\n",
              "      quickchartButtonEl.classList.remove('colab-df-spinner');\n",
              "      quickchartButtonEl.classList.add('colab-df-quickchart-complete');\n",
              "    }\n",
              "    (() => {\n",
              "      let quickchartButtonEl =\n",
              "        document.querySelector('#df-a3588daa-5d36-479b-a14f-de602558882f button');\n",
              "      quickchartButtonEl.style.display =\n",
              "        google.colab.kernel.accessAllowed ? 'block' : 'none';\n",
              "    })();\n",
              "  </script>\n",
              "</div>\n",
              "    </div>\n",
              "  </div>\n"
            ],
            "text/plain": [
              "                                                                                                                                                                                                                                                                                                                                                                                                                                                                               comment  \\\n",
              "0  The app is a bit over cluttered and full ads for other Chase services. But it does get the basic job done I guess. The biggest disappointment in the app though is that it doesn't have a widget to show your recent account transaction history. I shouldn't have to log into the just to see where the money in my account is going, at a glance. I would like to see that information on my Android home screen / desktop. So that I can quickly catch any strange transactions.   \n",
              "1                                                                                                                 Been a Chase CC customer since 2013. The app is decent, but I think there should be more stats available, especially about cash back. I could've swore they had a more available breakdown before. My BIGGEST issue is that 99% of the time I go to pay using a custom amount the keyboard won't pop up and then it often freezes. I'm just trying to pay my bill...   \n",
              "2                                                                             Most of the features on the app are solid, and fairly straightforward to use. Love Chase credit cards too, but I can't give more than two stars for one huge reason: you CANNOT edit/cancel recurring transfers. On the app OR the website. How asinine is that?? Whoever is in charge of app/web development is failing miserably, this is such a basic and necessary feature... Get it together Chase!   \n",
              "3                                                                            I would like to give no star as a business client. App has bugs when sending secure messages. Can't upload PDFs only photos I need to take while using the app. Otherwise the app would crash. The Chase business website is also not properly working. You can at least upload a PDF document but when I want to write a text message, it doesn't let me. And without a text message your can't send it.   \n",
              "4                                                                    The credit card information is so variable. I've had a charge show up in pending one day, disappear the next, past the third. It's frustrating trying to figure out the balance in order to pay it in full. I've relied on the amount to have a lost charge show up and end up with a balance. Is simple math. You should be able to see everything and calculate additions and subtractions. Not rocket science.   \n",
              "\n",
              "                  date  rating  helpful  year  month  day  \n",
              "0  1402-09-26 00:00:00       2      171  1402      9   26  \n",
              "1  1402-09-22 00:00:00       3      191  1402      9   22  \n",
              "2  1402-09-11 00:00:00       2      212  1402      9   11  \n",
              "3  1402-09-20 00:00:00       1       42  1402      9   20  \n",
              "4  1402-09-16 00:00:00       3      253  1402      9   16  "
            ]
          },
          "execution_count": 16,
          "metadata": {},
          "output_type": "execute_result"
        }
      ],
      "source": [
        "df.head(5)"
      ]
    },
    {
      "cell_type": "code",
      "execution_count": 17,
      "metadata": {
        "id": "_Y845xW2OZQ4"
      },
      "outputs": [],
      "source": [
        "df_backup = df.copy()"
      ]
    },
    {
      "cell_type": "markdown",
      "metadata": {
        "id": "spmxtmpQfdFg"
      },
      "source": [
        "### Limit Time"
      ]
    },
    {
      "cell_type": "code",
      "execution_count": 18,
      "metadata": {
        "id": "qdyLSQAUJY5N"
      },
      "outputs": [],
      "source": [
        "df.drop(['date'],axis=1,inplace=True)"
      ]
    },
    {
      "cell_type": "code",
      "execution_count": 19,
      "metadata": {
        "id": "TpyyTkVzPLAC"
      },
      "outputs": [],
      "source": [
        "df = df[df['year']>=1401]"
      ]
    },
    {
      "cell_type": "code",
      "execution_count": 20,
      "metadata": {
        "colab": {
          "base_uri": "https://localhost:8080/"
        },
        "id": "5Ix5YcoLPVqm",
        "outputId": "97d95cb9-934c-4309-8bf6-16f8c72046e6"
      },
      "outputs": [
        {
          "name": "stdout",
          "output_type": "stream",
          "text": [
            "<class 'pandas.core.frame.DataFrame'>\n",
            "Int64Index: 2620 entries, 0 to 7318\n",
            "Data columns (total 6 columns):\n",
            " #   Column   Non-Null Count  Dtype \n",
            "---  ------   --------------  ----- \n",
            " 0   comment  2620 non-null   object\n",
            " 1   rating   2620 non-null   int64 \n",
            " 2   helpful  2620 non-null   int64 \n",
            " 3   year     2620 non-null   int64 \n",
            " 4   month    2620 non-null   int64 \n",
            " 5   day      2620 non-null   int64 \n",
            "dtypes: int64(5), object(1)\n",
            "memory usage: 143.3+ KB\n"
          ]
        }
      ],
      "source": [
        "df.info()"
      ]
    }
  ],
  "metadata": {
    "colab": {
      "provenance": []
    },
    "kernelspec": {
      "display_name": "Python 3",
      "name": "python3"
    },
    "language_info": {
      "name": "python"
    }
  },
  "nbformat": 4,
  "nbformat_minor": 0
}
